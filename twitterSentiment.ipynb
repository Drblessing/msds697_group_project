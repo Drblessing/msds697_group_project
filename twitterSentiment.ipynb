{
 "cells": [
  {
   "cell_type": "code",
   "execution_count": 8,
   "metadata": {},
   "outputs": [],
   "source": [
    "# Python 3.7\n",
    "# Discord bot that analyzes sentiment for different crypto over the last 24 hours and messages then in discord server\n",
    "\n",
    "import twitter\n",
    "import os\n",
    "import datetime\n",
    "import nltk\n",
    "import re\n",
    "import pandas as pd\n",
    "import matplotlib.pyplot as plt\n",
    "import seaborn as sns\n",
    "from nltk.sentiment.vader import SentimentIntensityAnalyzer\n",
    "import numpy as np\n",
    "import time \n",
    "from IPython.display import clear_output\n"
   ]
  },
  {
   "cell_type": "code",
   "execution_count": 10,
   "metadata": {},
   "outputs": [],
   "source": [
    "# insert twitter API keys here\n",
    "\n",
    "\n",
    "consumer_key = input('Insert consumer_key: ')\n",
    "consumer_secret = input('Insert consumer_secret: ')\n",
    "access_token_key = input('Insert access_token_key: ')\n",
    "access_token_secret = input('Insert access_token_secret: ') \n",
    "\n",
    "clear_output()"
   ]
  }
 ],
 "metadata": {
  "kernelspec": {
   "display_name": "Python 3",
   "language": "python",
   "name": "python3"
  },
  "language_info": {
   "codemirror_mode": {
    "name": "ipython",
    "version": 3
   },
   "file_extension": ".py",
   "mimetype": "text/x-python",
   "name": "python",
   "nbconvert_exporter": "python",
   "pygments_lexer": "ipython3",
   "version": "3.7.7"
  }
 },
 "nbformat": 4,
 "nbformat_minor": 4
}