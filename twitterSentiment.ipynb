{
 "cells": [
  {
   "cell_type": "code",
   "execution_count": 1,
   "metadata": {},
   "outputs": [],
   "source": [
    "# Python 3.7\n",
    "# Discord bot that analyzes sentiment for different crypto over the last 24 hours and messages then in discord server\n",
    "\n",
    "import twitter\n",
    "import os\n",
    "import datetime\n",
    "import nltk\n",
    "import re\n",
    "import pandas as pd\n",
    "import matplotlib.pyplot as plt\n",
    "import seaborn as sns\n",
    "from nltk.sentiment.vader import SentimentIntensityAnalyzer\n",
    "import numpy as np\n",
    "import time \n"
   ]
  },
  {
   "cell_type": "code",
   "execution_count": 2,
   "metadata": {},
   "outputs": [
    {
     "name": "stdout",
     "output_type": "stream",
     "text": [
      "Put keys hereasdf\n",
      "Put keys hereasd\n",
      "Put keys hereasdf\n",
      "Put keys herea\n"
     ]
    }
   ],
   "source": [
    "# insert twitter API keys here\n",
    "\n",
    "\n",
    "consumer_key = input('Put keys here')\n",
    "consumer_secret = input('Put keys here')\n",
    "access_token_key = input('Put keys here')\n",
    "access_token_secret = input('Put keys here') "
   ]
  },
  {
   "cell_type": "code",
   "execution_count": 26,
   "metadata": {},
   "outputs": [
    {
     "data": {
      "image/png": "[encoded data removed]",
      "text/plain": [
       "<Figure size 500x500 with 1 Axes>"
      ]
     },
     "metadata": {},
     "output_type": "display_data"
    }
   ],
   "source": [
    "api = twitter.Api(\n",
    "    consumer_key=str(consumer_key),\n",
    "    consumer_secret=str(consumer_secret),\n",
    "    access_token_key=str(access_token_key),\n",
    "    access_token_secret=str(access_token_secret),\n",
    "    tweet_mode=\"extended\",\n",
    ")\n",
    "\n",
    "\n",
    "\n",
    "keywords = ['$btc','bitcoin']\n",
    "\n",
    "def twitterSearch(keyword):\n",
    "    searchResults = []\n",
    "    searchResults += api.GetSearch(term = keyword,count = 100, result_type = 'popular')\n",
    "    searchResults += api.GetSearch(term = keyword,count = 100, result_type = 'mixed' )\n",
    "    searchResults += api.GetSearch(term = keyword,count = 100, result_type = 'recent')\n",
    "    return searchResults\n",
    "\n",
    "search_results = []\n",
    "\n",
    "for word in keywords:\n",
    "    search_results += twitterSearch(word)\n",
    "    time.sleep(10)\n",
    "\n",
    "tweets_text = []\n",
    "tweets_authors = []\n",
    "date_for_query = datetime.datetime.now()\n",
    "for tweet in search_results:\n",
    "    # CAVEAT: consider only a single tweet from one author - \n",
    "    #this will ensure that a total sentiment is an opinion of multiple tweeter's users, not just a single one\n",
    "    if tweet.user not in tweets_authors:\n",
    "        tweets_authors.append(tweet.user)\n",
    "    else:\n",
    "        continue\n",
    "    tweet_text = tweet.full_text\n",
    "    \n",
    "    if \"@\" in tweet_text:\n",
    "        tweet_text = re.sub(\"(@)\\w+\", \"\", tweet_text)\n",
    "    if \"#\" in tweet_text:\n",
    "        tweet_text = re.sub(\"(#)\\w+\", \"\", tweet_text)\n",
    "    \n",
    "    \n",
    "    if len(tweet_text) > 20:\n",
    "        tweets_text.append(tweet_text.lstrip())\n",
    "\n",
    "def vader_sentiment_score(tweet_text: str) -> float:\n",
    "    return round(\n",
    "        SentimentIntensityAnalyzer().polarity_scores(tweet_text)[\"compound\"], 3\n",
    "    )\n",
    "\n",
    "sentiment_score_vader = []\n",
    "for tweet in tweets_text:\n",
    "    sentiment_score_vader.append(vader_sentiment_score(tweet))\n",
    "    \n",
    "sentiment_score_vader\n",
    "sentiment_list = []\n",
    "for score in sentiment_score_vader:\n",
    "    if score < -0.05:\n",
    "        sentiment_list.append(\"negative\")\n",
    "    elif -0.05 <= score <= 0.05:\n",
    "        sentiment_list.append(\"neutral\")\n",
    "    elif score > 0.05:\n",
    "        sentiment_list.append(\"positive\")\n",
    "\n",
    "        \n",
    "x_axis = [\"negative\", \"neutral\", \"positive\"]\n",
    "y_axis = [\n",
    "    sentiment_list.count(\"negative\"),\n",
    "    sentiment_list.count(\"neutral\"),\n",
    "    sentiment_list.count(\"positive\"),\n",
    "]\n",
    "colors = ['firebrick', 'dodgerblue', 'limegreen']\n",
    "sns.set_palette(sns.color_palette(colors))\n",
    "sns.set_style(\"darkgrid\")\n",
    "fig = plt.figure(figsize=(5, 5),dpi= 100)\n",
    "\n",
    "ax = plt.axes()\n",
    "ax.set_ylabel(\"Amount\", weight=\"bold\", fontsize=\"large\")\n",
    "sns.barplot(x=x_axis, y=y_axis)\n",
    "\n",
    "if False:\n",
    "    fig.suptitle(\n",
    "        f\"Sentiment of Tweets containing keywords: {', '.join(keywords).replace('[', '').replace(']', '')}\\ndated for period: {date_for_query.strftime('%d.%m')} - {datetime.date.today().strftime('%d.%m')}\",\n",
    "        weight=\"bold\",\n",
    "    )\n",
    "else:\n",
    "    fig.suptitle(\n",
    "        f\"Sentiment of Tweets containing keywords: {''.join(keywords).replace('[', '').replace(']', '')}\\npublished recently ({date_for_query.strftime('%m/%d')})\",\n",
    "        weight=\"bold\",\n",
    "    )\n",
    "plt.savefig('Sentiment.png')\n"
   ]
  }
 ],
 "metadata": {
  "kernelspec": {
   "display_name": "Python 3",
   "language": "python",
   "name": "python3"
  },
  "language_info": {
   "codemirror_mode": {
    "name": "ipython",
    "version": 3
   },
   "file_extension": ".py",
   "mimetype": "text/x-python",
   "name": "python",
   "nbconvert_exporter": "python",
   "pygments_lexer": "ipython3",
   "version": "3.7.7"
  }
 },
 "nbformat": 4,
 "nbformat_minor": 4
}
