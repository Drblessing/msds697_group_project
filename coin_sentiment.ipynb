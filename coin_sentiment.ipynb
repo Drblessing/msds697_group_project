{
 "cells": [
  {
   "cell_type": "markdown",
   "metadata": {},
   "source": [
    "# Coin Sentiment"
   ]
  },
  {
   "cell_type": "markdown",
   "metadata": {},
   "source": [
    "Tweets collected from more than 50 crypto influencers used to calculate compound sentiment score for specific coin."
   ]
  },
  {
   "cell_type": "code",
   "execution_count": 12,
   "metadata": {},
   "outputs": [],
   "source": [
    "import numpy as np\n",
    "import pandas as pd\n",
    "import matplotlib.pyplot as plt\n",
    "from vaderSentiment.vaderSentiment import SentimentIntensityAnalyzer\n",
    "from colour import Color\n",
    "\n",
    "#%config InlineBackend.figure_format = 'svg'   # svg vs png format make sharper images!\n",
    "%config InlineBackend.figure_format = 'retina' # much faster than svg when generating lots of points"
   ]
  },
  {
   "cell_type": "code",
   "execution_count": 173,
   "metadata": {},
   "outputs": [],
   "source": [
    "df = pd.read_csv('tweets.csv', parse_dates=['created'])"
   ]
  },
  {
   "cell_type": "code",
   "execution_count": 174,
   "metadata": {},
   "outputs": [
    {
     "data": {
      "text/plain": [
       "54110"
      ]
     },
     "execution_count": 174,
     "metadata": {},
     "output_type": "execute_result"
    }
   ],
   "source": [
    "len(df)"
   ]
  },
  {
   "cell_type": "code",
   "execution_count": 66,
   "metadata": {},
   "outputs": [
    {
     "data": {
      "text/plain": [
       "array(['@Tether_to', '@FTX_Official', '@LBank_Exchange', '@CoinBene',\n",
       "       '@DigiFinex', '@upbitglobal', '@MXC_Exchange', '@OKEx',\n",
       "       '@HuobiGlobal', '@justinkan', '@krakenfx', '@coinbase',\n",
       "       '@CoinbasePro', '@binance', '@cz_binance', '@TheTradingTramp',\n",
       "       '@BTC_JackSparrow', '@imBagsy', '@officialmcafee', '@MuroCrypto',\n",
       "       '@CryptoWhalebot', '@stephendpalley', '@Hardwood_', '@bigmagicdao',\n",
       "       '@ashtoshii', '@n2ckchong', '@GodwinYang', '@mhonkasalo',\n",
       "       '@coingecko', '@George1Trader', '@ColdBloodShill', '@CryptoKaleo',\n",
       "       '@CryptoMessiah', '@notsofast', '@Arthur_0x', '@StackingUSD',\n",
       "       '@cryptoquant_com', '@ki_young_ju', '@dgntec', '@zhusu', '@redxbt',\n",
       "       '@intocryptoast', '@BobTheJimbo', '@AlgodTrading', '@mgnr_io',\n",
       "       '@nansen_ai', '@coinmamba', '@basedkarbon', '@AWice',\n",
       "       '@AndreCronjeTech', '@CryptoCobain', '@RaoulGMI', '@razoreth',\n",
       "       '@TheCryptoDog', '@HighStakesCap', '@john_j_brown', '@0x_b1'],\n",
       "      dtype=object)"
      ]
     },
     "execution_count": 66,
     "metadata": {},
     "output_type": "execute_result"
    }
   ],
   "source": [
    "df[\"user\"].unique()"
   ]
  },
  {
   "cell_type": "markdown",
   "metadata": {},
   "source": [
    "One user is selected for testing."
   ]
  },
  {
   "cell_type": "code",
   "execution_count": 138,
   "metadata": {},
   "outputs": [],
   "source": [
    "USER = \"@intocryptoast\""
   ]
  },
  {
   "cell_type": "code",
   "execution_count": 144,
   "metadata": {},
   "outputs": [
    {
     "name": "stdout",
     "output_type": "stream",
     "text": [
      "The oldest tweet created at : 2021-01-20 00:00:00\n"
     ]
    }
   ],
   "source": [
    "print(\"The oldest tweet created at : \"+str(df[df[\"user\"]==USER][\"created\"].max()))"
   ]
  },
  {
   "cell_type": "code",
   "execution_count": 148,
   "metadata": {},
   "outputs": [
    {
     "name": "stdout",
     "output_type": "stream",
     "text": [
      "The oldest tweet created at : 2020-09-03 00:00:00\n",
      "The newest tweet created at : 2021-01-20 00:00:00\n",
      "Time window of collected tweets : 139 days 00:00:00 for @intocryptoast\n"
     ]
    }
   ],
   "source": [
    "print(\"The oldest tweet created at : \"+str(df[df[\"user\"]==USER][\"created\"].min()))\n",
    "print(\"The newest tweet created at : \"+str(df[df[\"user\"]==USER][\"created\"].max()))\n",
    "print(\"Time window of collected tweets : \"+str(df[df[\"user\"]==USER][\"created\"].max()-df[df[\"user\"]==USER][\"created\"].min())+\" for \"+USER)"
   ]
  },
  {
   "cell_type": "code",
   "execution_count": 123,
   "metadata": {},
   "outputs": [
    {
     "data": {
      "text/plain": [
       "Timestamp('2021-01-19 00:00:00')"
      ]
     },
     "execution_count": 123,
     "metadata": {},
     "output_type": "execute_result"
    }
   ],
   "source": [
    "df[df[\"user\"]==USER][\"created\"].max()"
   ]
  },
  {
   "cell_type": "code",
   "execution_count": 124,
   "metadata": {},
   "outputs": [],
   "source": [
    "subset = df[df[\"user\"]==USER][[\"created\",\"text\"]]"
   ]
  },
  {
   "cell_type": "markdown",
   "metadata": {},
   "source": [
    "One coin is selected for testing."
   ]
  },
  {
   "cell_type": "code",
   "execution_count": 158,
   "metadata": {},
   "outputs": [],
   "source": [
    "COIN_SYMBOL = \"eth\""
   ]
  },
  {
   "cell_type": "code",
   "execution_count": 159,
   "metadata": {},
   "outputs": [],
   "source": [
    "filtered_subset = subset[subset['text'].str.lower().str.contains(COIN_SYMBOL)]"
   ]
  },
  {
   "cell_type": "code",
   "execution_count": 160,
   "metadata": {},
   "outputs": [],
   "source": [
    "senti = SentimentIntensityAnalyzer()"
   ]
  },
  {
   "cell_type": "code",
   "execution_count": 161,
   "metadata": {},
   "outputs": [],
   "source": [
    "scores = []\n",
    "for tw in filtered_subset[\"text\"]:\n",
    "    scores.append(senti.polarity_scores(tw)['compound'])"
   ]
  },
  {
   "cell_type": "code",
   "execution_count": 162,
   "metadata": {},
   "outputs": [],
   "source": [
    "colors = list(Color(\"red\").range_to(Color(\"green\"), 100)) # List of color codes between red and green\n",
    "hex_colors = []\n",
    "for score in scores:\n",
    "    hex_colors.append(colors[round((score+1)*50)])"
   ]
  },
  {
   "cell_type": "code",
   "execution_count": 163,
   "metadata": {},
   "outputs": [],
   "source": [
    "filtered_subset_ = filtered_subset.copy()"
   ]
  },
  {
   "cell_type": "code",
   "execution_count": 164,
   "metadata": {},
   "outputs": [],
   "source": [
    "if not filtered_subset_.empty:\n",
    "    filtered_subset_[\"compound_score\"] = filtered_subset.apply(lambda x: senti.polarity_scores(x[\"text\"])['compound'], axis=1)"
   ]
  },
  {
   "cell_type": "code",
   "execution_count": 165,
   "metadata": {},
   "outputs": [
    {
     "data": {
      "text/html": [
       "<div>\n",
       "<style scoped>\n",
       "    .dataframe tbody tr th:only-of-type {\n",
       "        vertical-align: middle;\n",
       "    }\n",
       "\n",
       "    .dataframe tbody tr th {\n",
       "        vertical-align: top;\n",
       "    }\n",
       "\n",
       "    .dataframe thead th {\n",
       "        text-align: right;\n",
       "    }\n",
       "</style>\n",
       "<table border=\"1\" class=\"dataframe\">\n",
       "  <thead>\n",
       "    <tr style=\"text-align: right;\">\n",
       "      <th></th>\n",
       "      <th>created</th>\n",
       "      <th>text</th>\n",
       "      <th>compound_score</th>\n",
       "    </tr>\n",
       "  </thead>\n",
       "  <tbody>\n",
       "    <tr>\n",
       "      <th>46106</th>\n",
       "      <td>2021-01-14</td>\n",
       "      <td>#ETH2 https://t.co/FVLZm1eSnc</td>\n",
       "      <td>0.0000</td>\n",
       "    </tr>\n",
       "    <tr>\n",
       "      <th>46107</th>\n",
       "      <td>2021-01-13</td>\n",
       "      <td>Looks like @LidoFinance will break the magical...</td>\n",
       "      <td>0.4215</td>\n",
       "    </tr>\n",
       "    <tr>\n",
       "      <th>46124</th>\n",
       "      <td>2020-12-30</td>\n",
       "      <td>RT @lidofinance: You can now track Lido stakin...</td>\n",
       "      <td>0.0000</td>\n",
       "    </tr>\n",
       "    <tr>\n",
       "      <th>46128</th>\n",
       "      <td>2020-12-29</td>\n",
       "      <td>🚨 New Nansen Research post out 🚨\\n\\n\"A deep di...</td>\n",
       "      <td>0.0000</td>\n",
       "    </tr>\n",
       "    <tr>\n",
       "      <th>46142</th>\n",
       "      <td>2020-12-23</td>\n",
       "      <td>You can now follow @lidofinance ETH2 staking i...</td>\n",
       "      <td>0.5411</td>\n",
       "    </tr>\n",
       "    <tr>\n",
       "      <th>46154</th>\n",
       "      <td>2020-12-15</td>\n",
       "      <td>RT @ASvanevik: The largest entity (in # of wal...</td>\n",
       "      <td>0.0000</td>\n",
       "    </tr>\n",
       "    <tr>\n",
       "      <th>46163</th>\n",
       "      <td>2020-12-08</td>\n",
       "      <td>Our algorithms now pick the most informative w...</td>\n",
       "      <td>0.6476</td>\n",
       "    </tr>\n",
       "    <tr>\n",
       "      <th>46172</th>\n",
       "      <td>2020-12-01</td>\n",
       "      <td>Top ETH2 graffiti - see anyone you know? https...</td>\n",
       "      <td>0.2023</td>\n",
       "    </tr>\n",
       "    <tr>\n",
       "      <th>46173</th>\n",
       "      <td>2020-12-01</td>\n",
       "      <td>ETH2 is launching, so we're offering a 1 Year ...</td>\n",
       "      <td>0.2732</td>\n",
       "    </tr>\n",
       "    <tr>\n",
       "      <th>46180</th>\n",
       "      <td>2020-11-26</td>\n",
       "      <td>RT @CreamdotFinance: #5 on the list of ETH con...</td>\n",
       "      <td>0.4404</td>\n",
       "    </tr>\n",
       "    <tr>\n",
       "      <th>46182</th>\n",
       "      <td>2020-11-25</td>\n",
       "      <td>RT @proofofjk: I started using @nansen_ai for ...</td>\n",
       "      <td>0.0000</td>\n",
       "    </tr>\n",
       "    <tr>\n",
       "      <th>46183</th>\n",
       "      <td>2020-11-25</td>\n",
       "      <td>RT @stakefish: Over 700,000 ETH has already be...</td>\n",
       "      <td>0.4588</td>\n",
       "    </tr>\n",
       "    <tr>\n",
       "      <th>46184</th>\n",
       "      <td>2020-11-25</td>\n",
       "      <td>RT @dcarmitage: @ValidatorEth @R_Tyler_Smith @...</td>\n",
       "      <td>0.3595</td>\n",
       "    </tr>\n",
       "    <tr>\n",
       "      <th>46185</th>\n",
       "      <td>2020-11-25</td>\n",
       "      <td>RT @coingecko: 🚨 Alpha Leak\\nNeed on-chain ana...</td>\n",
       "      <td>-0.4003</td>\n",
       "    </tr>\n",
       "    <tr>\n",
       "      <th>46186</th>\n",
       "      <td>2020-11-24</td>\n",
       "      <td>RT @bravenewcoin: 🎙️On the Crypto Conversation...</td>\n",
       "      <td>0.0000</td>\n",
       "    </tr>\n",
       "    <tr>\n",
       "      <th>46188</th>\n",
       "      <td>2020-11-23</td>\n",
       "      <td>More than 1,000 addresses have now deposited t...</td>\n",
       "      <td>0.3818</td>\n",
       "    </tr>\n",
       "    <tr>\n",
       "      <th>46193</th>\n",
       "      <td>2020-11-19</td>\n",
       "      <td>Nansen users can follow ETH2 deposits with thi...</td>\n",
       "      <td>0.0000</td>\n",
       "    </tr>\n",
       "    <tr>\n",
       "      <th>46197</th>\n",
       "      <td>2020-11-17</td>\n",
       "      <td>Breaking 100k ETH deposited today? #ETH2 https...</td>\n",
       "      <td>0.0000</td>\n",
       "    </tr>\n",
       "    <tr>\n",
       "      <th>46199</th>\n",
       "      <td>2020-11-13</td>\n",
       "      <td>Happy we could contribute to SIMP #1.\\n\\nAlso,...</td>\n",
       "      <td>0.7096</td>\n",
       "    </tr>\n",
       "    <tr>\n",
       "      <th>46200</th>\n",
       "      <td>2020-11-11</td>\n",
       "      <td>Nansen uses @OpenEthereumOrg so we are current...</td>\n",
       "      <td>0.5574</td>\n",
       "    </tr>\n",
       "    <tr>\n",
       "      <th>46205</th>\n",
       "      <td>2020-11-07</td>\n",
       "      <td>RT @crypto_rex: Looking at @nansen_ai's Top ET...</td>\n",
       "      <td>0.3818</td>\n",
       "    </tr>\n",
       "    <tr>\n",
       "      <th>46220</th>\n",
       "      <td>2020-10-27</td>\n",
       "      <td>RT @Crypto_Briefing: #Ethereum analytics firm ...</td>\n",
       "      <td>0.0000</td>\n",
       "    </tr>\n",
       "    <tr>\n",
       "      <th>46240</th>\n",
       "      <td>2020-10-16</td>\n",
       "      <td>Happy to announce some good news - three at on...</td>\n",
       "      <td>0.7840</td>\n",
       "    </tr>\n",
       "    <tr>\n",
       "      <th>46241</th>\n",
       "      <td>2020-10-13</td>\n",
       "      <td>RT @CxDefi: Nansen Brings Transparency To Ethe...</td>\n",
       "      <td>0.4019</td>\n",
       "    </tr>\n",
       "    <tr>\n",
       "      <th>46252</th>\n",
       "      <td>2020-09-29</td>\n",
       "      <td>RT @masonnystrom: Coinbase holds ~8.7 million ...</td>\n",
       "      <td>0.0000</td>\n",
       "    </tr>\n",
       "    <tr>\n",
       "      <th>46259</th>\n",
       "      <td>2020-09-22</td>\n",
       "      <td>RT @defiprime: We listed Nansen 🔥 \\n\\nNansen i...</td>\n",
       "      <td>-0.3400</td>\n",
       "    </tr>\n",
       "    <tr>\n",
       "      <th>46273</th>\n",
       "      <td>2020-09-16</td>\n",
       "      <td>RT @mosayeri: The best analytics tool for DeFi...</td>\n",
       "      <td>0.2278</td>\n",
       "    </tr>\n",
       "    <tr>\n",
       "      <th>46310</th>\n",
       "      <td>2020-08-13</td>\n",
       "      <td>Why are people moving BTC to Ethereum? 🤔\\n\\n⭐️...</td>\n",
       "      <td>0.0000</td>\n",
       "    </tr>\n",
       "    <tr>\n",
       "      <th>46314</th>\n",
       "      <td>2020-08-07</td>\n",
       "      <td>One of our internal product KPIs is ETH Volume...</td>\n",
       "      <td>0.1779</td>\n",
       "    </tr>\n",
       "    <tr>\n",
       "      <th>46326</th>\n",
       "      <td>2020-07-28</td>\n",
       "      <td>Our Early Bird offer still has a few slots lef...</td>\n",
       "      <td>-0.6254</td>\n",
       "    </tr>\n",
       "    <tr>\n",
       "      <th>46337</th>\n",
       "      <td>2020-07-06</td>\n",
       "      <td>RT @alex_kroeger: @BobMcElrath We'll see how i...</td>\n",
       "      <td>0.2500</td>\n",
       "    </tr>\n",
       "    <tr>\n",
       "      <th>46344</th>\n",
       "      <td>2020-06-24</td>\n",
       "      <td>RT @spencernoon: This morning the Plus Token s...</td>\n",
       "      <td>0.1153</td>\n",
       "    </tr>\n",
       "    <tr>\n",
       "      <th>46354</th>\n",
       "      <td>2020-06-09</td>\n",
       "      <td>RT @decryptmedia: Data from @ArcaneResearch an...</td>\n",
       "      <td>0.0000</td>\n",
       "    </tr>\n",
       "    <tr>\n",
       "      <th>46355</th>\n",
       "      <td>2020-06-08</td>\n",
       "      <td>RT @ArcaneResearch: 👀Another sneak peek into o...</td>\n",
       "      <td>0.3612</td>\n",
       "    </tr>\n",
       "    <tr>\n",
       "      <th>46357</th>\n",
       "      <td>2020-05-31</td>\n",
       "      <td>Check out this piece by @joel_john95 on ETH ac...</td>\n",
       "      <td>0.0000</td>\n",
       "    </tr>\n",
       "    <tr>\n",
       "      <th>46361</th>\n",
       "      <td>2020-05-26</td>\n",
       "      <td>RT @spencernoon: #9: Post-Black Thursday (Marc...</td>\n",
       "      <td>0.0000</td>\n",
       "    </tr>\n",
       "    <tr>\n",
       "      <th>46367</th>\n",
       "      <td>2020-05-22</td>\n",
       "      <td>RT @AlexanderFisher: Over 2600 BTC have been l...</td>\n",
       "      <td>0.6239</td>\n",
       "    </tr>\n",
       "    <tr>\n",
       "      <th>46368</th>\n",
       "      <td>2020-05-17</td>\n",
       "      <td>These are the top ETH depositors to Bitfinex s...</td>\n",
       "      <td>0.2023</td>\n",
       "    </tr>\n",
       "    <tr>\n",
       "      <th>46369</th>\n",
       "      <td>2020-05-17</td>\n",
       "      <td>&amp;gt;40% increase in ETH held by @bitfinex sinc...</td>\n",
       "      <td>0.3182</td>\n",
       "    </tr>\n",
       "  </tbody>\n",
       "</table>\n",
       "</div>"
      ],
      "text/plain": [
       "         created                                               text  \\\n",
       "46106 2021-01-14                      #ETH2 https://t.co/FVLZm1eSnc   \n",
       "46107 2021-01-13  Looks like @LidoFinance will break the magical...   \n",
       "46124 2020-12-30  RT @lidofinance: You can now track Lido stakin...   \n",
       "46128 2020-12-29  🚨 New Nansen Research post out 🚨\\n\\n\"A deep di...   \n",
       "46142 2020-12-23  You can now follow @lidofinance ETH2 staking i...   \n",
       "46154 2020-12-15  RT @ASvanevik: The largest entity (in # of wal...   \n",
       "46163 2020-12-08  Our algorithms now pick the most informative w...   \n",
       "46172 2020-12-01  Top ETH2 graffiti - see anyone you know? https...   \n",
       "46173 2020-12-01  ETH2 is launching, so we're offering a 1 Year ...   \n",
       "46180 2020-11-26  RT @CreamdotFinance: #5 on the list of ETH con...   \n",
       "46182 2020-11-25  RT @proofofjk: I started using @nansen_ai for ...   \n",
       "46183 2020-11-25  RT @stakefish: Over 700,000 ETH has already be...   \n",
       "46184 2020-11-25  RT @dcarmitage: @ValidatorEth @R_Tyler_Smith @...   \n",
       "46185 2020-11-25  RT @coingecko: 🚨 Alpha Leak\\nNeed on-chain ana...   \n",
       "46186 2020-11-24  RT @bravenewcoin: 🎙️On the Crypto Conversation...   \n",
       "46188 2020-11-23  More than 1,000 addresses have now deposited t...   \n",
       "46193 2020-11-19  Nansen users can follow ETH2 deposits with thi...   \n",
       "46197 2020-11-17  Breaking 100k ETH deposited today? #ETH2 https...   \n",
       "46199 2020-11-13  Happy we could contribute to SIMP #1.\\n\\nAlso,...   \n",
       "46200 2020-11-11  Nansen uses @OpenEthereumOrg so we are current...   \n",
       "46205 2020-11-07  RT @crypto_rex: Looking at @nansen_ai's Top ET...   \n",
       "46220 2020-10-27  RT @Crypto_Briefing: #Ethereum analytics firm ...   \n",
       "46240 2020-10-16  Happy to announce some good news - three at on...   \n",
       "46241 2020-10-13  RT @CxDefi: Nansen Brings Transparency To Ethe...   \n",
       "46252 2020-09-29  RT @masonnystrom: Coinbase holds ~8.7 million ...   \n",
       "46259 2020-09-22  RT @defiprime: We listed Nansen 🔥 \\n\\nNansen i...   \n",
       "46273 2020-09-16  RT @mosayeri: The best analytics tool for DeFi...   \n",
       "46310 2020-08-13  Why are people moving BTC to Ethereum? 🤔\\n\\n⭐️...   \n",
       "46314 2020-08-07  One of our internal product KPIs is ETH Volume...   \n",
       "46326 2020-07-28  Our Early Bird offer still has a few slots lef...   \n",
       "46337 2020-07-06  RT @alex_kroeger: @BobMcElrath We'll see how i...   \n",
       "46344 2020-06-24  RT @spencernoon: This morning the Plus Token s...   \n",
       "46354 2020-06-09  RT @decryptmedia: Data from @ArcaneResearch an...   \n",
       "46355 2020-06-08  RT @ArcaneResearch: 👀Another sneak peek into o...   \n",
       "46357 2020-05-31  Check out this piece by @joel_john95 on ETH ac...   \n",
       "46361 2020-05-26  RT @spencernoon: #9: Post-Black Thursday (Marc...   \n",
       "46367 2020-05-22  RT @AlexanderFisher: Over 2600 BTC have been l...   \n",
       "46368 2020-05-17  These are the top ETH depositors to Bitfinex s...   \n",
       "46369 2020-05-17  &gt;40% increase in ETH held by @bitfinex sinc...   \n",
       "\n",
       "       compound_score  \n",
       "46106          0.0000  \n",
       "46107          0.4215  \n",
       "46124          0.0000  \n",
       "46128          0.0000  \n",
       "46142          0.5411  \n",
       "46154          0.0000  \n",
       "46163          0.6476  \n",
       "46172          0.2023  \n",
       "46173          0.2732  \n",
       "46180          0.4404  \n",
       "46182          0.0000  \n",
       "46183          0.4588  \n",
       "46184          0.3595  \n",
       "46185         -0.4003  \n",
       "46186          0.0000  \n",
       "46188          0.3818  \n",
       "46193          0.0000  \n",
       "46197          0.0000  \n",
       "46199          0.7096  \n",
       "46200          0.5574  \n",
       "46205          0.3818  \n",
       "46220          0.0000  \n",
       "46240          0.7840  \n",
       "46241          0.4019  \n",
       "46252          0.0000  \n",
       "46259         -0.3400  \n",
       "46273          0.2278  \n",
       "46310          0.0000  \n",
       "46314          0.1779  \n",
       "46326         -0.6254  \n",
       "46337          0.2500  \n",
       "46344          0.1153  \n",
       "46354          0.0000  \n",
       "46355          0.3612  \n",
       "46357          0.0000  \n",
       "46361          0.0000  \n",
       "46367          0.6239  \n",
       "46368          0.2023  \n",
       "46369          0.3182  "
      ]
     },
     "execution_count": 165,
     "metadata": {},
     "output_type": "execute_result"
    }
   ],
   "source": [
    "filtered_subset_"
   ]
  },
  {
   "cell_type": "code",
   "execution_count": 169,
   "metadata": {},
   "outputs": [
    {
     "data": {
      "image/png": "[encoded data removed]",
      "text/plain": [
       "<Figure size 1440x432 with 1 Axes>"
      ]
     },
     "metadata": {
      "image/png": {
       "height": 372,
       "width": 1161
      },
      "needs_background": "light"
     },
     "output_type": "display_data"
    }
   ],
   "source": [
    "fig, ax = plt.subplots(figsize=(20,6))\n",
    "ax.plot(filtered_subset_[\"created\"],filtered_subset_[\"compound_score\"],color=\"maroon\")\n",
    "ax.set_title(\"Compound Sentiment Score for \"+ COIN_SYMBOL)\n",
    "plt.show()"
   ]
  },
  {
   "cell_type": "code",
   "execution_count": 167,
   "metadata": {},
   "outputs": [
    {
     "data": {
      "text/markdown": [
       "<span style=\"color: #bdbf00\">#ETH2 https://t.co/FVLZm1eSnc</span>"
      ],
      "text/plain": [
       "<IPython.core.display.Markdown object>"
      ]
     },
     "metadata": {},
     "output_type": "display_data"
    },
    {
     "data": {
      "text/markdown": [
       "<span style=\"color: #5da400\">Looks like @LidoFinance will break the magical 32k ETH barrier today.\n",
       "\n",
       "When it does, it will become a top 10 ETH2 depositor. https://t.co/gxznxOmfke</span>"
      ],
      "text/plain": [
       "<IPython.core.display.Markdown object>"
      ]
     },
     "metadata": {},
     "output_type": "display_data"
    },
    {
     "data": {
      "text/markdown": [
       "<span style=\"color: #bdbf00\">RT @lidofinance: You can now track Lido staking statistics with @nansen_ai's Lido dashboard.\n",
       "\n",
       "▪️ Total ETH staked\n",
       "▪️ stETH price + volume…</span>"
      ],
      "text/plain": [
       "<IPython.core.display.Markdown object>"
      ]
     },
     "metadata": {},
     "output_type": "display_data"
    },
    {
     "data": {
      "text/markdown": [
       "<span style=\"color: #bdbf00\">🚨 New Nansen Research post out 🚨\n",
       "\n",
       "\"A deep dive into arbitrage on decentralised exchanges\"\n",
       "\n",
       "Written by @weijie_eth and @darenfrankel \n",
       "\n",
       "Check it out: https://t.co/tC36HzgSVb</span>"
      ],
      "text/plain": [
       "<IPython.core.display.Markdown object>"
      ]
     },
     "metadata": {},
     "output_type": "display_data"
    },
    {
     "data": {
      "text/markdown": [
       "<span style=\"color: #459c00\">You can now follow @lidofinance ETH2 staking in this public dashboard: https://t.co/wnCpiCgVVQ\n",
       "\n",
       "Enjoy!</span>"
      ],
      "text/plain": [
       "<IPython.core.display.Markdown object>"
      ]
     },
     "metadata": {},
     "output_type": "display_data"
    },
    {
     "data": {
      "text/markdown": [
       "<span style=\"color: #bdbf00\">RT @ASvanevik: The largest entity (in # of wallets) tracked in @nansen_ai is @binance - more than 2.6m Ethereum wallets 👀 https://t.co/kV0I…</span>"
      ],
      "text/plain": [
       "<IPython.core.display.Markdown object>"
      ]
     },
     "metadata": {},
     "output_type": "display_data"
    },
    {
     "data": {
      "text/markdown": [
       "<span style=\"color: #339600\">Our algorithms now pick the most informative wallet label for each address and displays it across dashboards.\n",
       "\n",
       "Also, emojis help you understand if something is a:\n",
       "🤖 Contract\n",
       "🏦 Exchange\n",
       "🤓 Smart Money\n",
       "... and more\n",
       "\n",
       "Let us know what you think!\n",
       "\n",
       "Top $YFI balances below: https://t.co/qqn0PqZYL5</span>"
      ],
      "text/plain": [
       "<IPython.core.display.Markdown object>"
      ]
     },
     "metadata": {},
     "output_type": "display_data"
    },
    {
     "data": {
      "text/markdown": [
       "<span style=\"color: #8cb200\">Top ETH2 graffiti - see anyone you know? https://t.co/9UkshOyYuH</span>"
      ],
      "text/plain": [
       "<IPython.core.display.Markdown object>"
      ]
     },
     "metadata": {},
     "output_type": "display_data"
    },
    {
     "data": {
      "text/markdown": [
       "<span style=\"color: #7aad00\">ETH2 is launching, so we're offering a 1 Year Nansen subscription for only 2 ETH today.\n",
       "\n",
       "This offer is limited to 32 people. 😎\n",
       "\n",
       "Claim it before we run out: https://t.co/VQAeOqpzv6</span>"
      ],
      "text/plain": [
       "<IPython.core.display.Markdown object>"
      ]
     },
     "metadata": {},
     "output_type": "display_data"
    },
    {
     "data": {
      "text/markdown": [
       "<span style=\"color: #59a300\">RT @CreamdotFinance: #5 on the list of ETH contributors into the Eth2 Deposit Contract. Doing our part in supporting the Eth2 launch\n",
       "\n",
       "Stake…</span>"
      ],
      "text/plain": [
       "<IPython.core.display.Markdown object>"
      ]
     },
     "metadata": {},
     "output_type": "display_data"
    },
    {
     "data": {
      "text/markdown": [
       "<span style=\"color: #bdbf00\">RT @proofofjk: I started using @nansen_ai for DeFi and now I'm using it to track #ETH2 staking. One of the \"must subscribe\" in the space :)…</span>"
      ],
      "text/plain": [
       "<IPython.core.display.Markdown object>"
      ]
     },
     "metadata": {},
     "output_type": "display_data"
    },
    {
     "data": {
      "text/markdown": [
       "<span style=\"color: #55a100\">RT @stakefish: Over 700,000 ETH has already been deposited to launch more than 20,000 #eth2 validators (almost 8% of them with stakefish 😎)…</span>"
      ],
      "text/plain": [
       "<IPython.core.display.Markdown object>"
      ]
     },
     "metadata": {},
     "output_type": "display_data"
    },
    {
     "data": {
      "text/markdown": [
       "<span style=\"color: #69a800\">RT @dcarmitage: @ValidatorEth @R_Tyler_Smith @nansen_ai Yep! Not including Vitalik or the Ethereum Foundation, there were 11 ETH ICO Partic…</span>"
      ],
      "text/plain": [
       "<IPython.core.display.Markdown object>"
      ]
     },
     "metadata": {},
     "output_type": "display_data"
    },
    {
     "data": {
      "text/markdown": [
       "<span style=\"color: #d98300\">RT @coingecko: 🚨 Alpha Leak\n",
       "Need on-chain analytics and yield farming intel on $ETH?\n",
       "\n",
       "Say hello to @nansen_ai! A 7-day starter pack is now…</span>"
      ],
      "text/plain": [
       "<IPython.core.display.Markdown object>"
      ]
     },
     "metadata": {},
     "output_type": "display_data"
    },
    {
     "data": {
      "text/markdown": [
       "<span style=\"color: #bdbf00\">RT @bravenewcoin: 🎙️On the Crypto Conversation podcast @ASvanevik\n",
       "from the @nansen_ai  analytics platform for the Ethereum blockchain is he…</span>"
      ],
      "text/plain": [
       "<IPython.core.display.Markdown object>"
      ]
     },
     "metadata": {},
     "output_type": "display_data"
    },
    {
     "data": {
      "text/markdown": [
       "<span style=\"color: #65a600\">More than 1,000 addresses have now deposited to ETH 2.0 contract 🥳 https://t.co/BMQB6I6mzR</span>"
      ],
      "text/plain": [
       "<IPython.core.display.Markdown object>"
      ]
     },
     "metadata": {},
     "output_type": "display_data"
    },
    {
     "data": {
      "text/markdown": [
       "<span style=\"color: #bdbf00\">Nansen users can follow ETH2 deposits with this new dash: https://t.co/fAJhC6aTnX\n",
       "\n",
       "Check it out! https://t.co/u4DvyJJ8tK</span>"
      ],
      "text/plain": [
       "<IPython.core.display.Markdown object>"
      ]
     },
     "metadata": {},
     "output_type": "display_data"
    },
    {
     "data": {
      "text/markdown": [
       "<span style=\"color: #bdbf00\">Breaking 100k ETH deposited today? #ETH2 https://t.co/kBXlSxEpBH</span>"
      ],
      "text/plain": [
       "<IPython.core.display.Markdown object>"
      ]
     },
     "metadata": {},
     "output_type": "display_data"
    },
    {
     "data": {
      "text/markdown": [
       "<span style=\"color: #299200\">Happy we could contribute to SIMP #1.\n",
       "\n",
       "Also, sorry jokap.eth 😅 https://t.co/QQl4pKG87r</span>"
      ],
      "text/plain": [
       "<IPython.core.display.Markdown object>"
      ]
     },
     "metadata": {},
     "output_type": "display_data"
    },
    {
     "data": {
      "text/markdown": [
       "<span style=\"color: #429b00\">Nansen uses @OpenEthereumOrg so we are currently unaffected by the Infura incident.\n",
       "\n",
       "Monitoring the situation, and hope it gets resolved soon for those impacted.</span>"
      ],
      "text/plain": [
       "<IPython.core.display.Markdown object>"
      ]
     },
     "metadata": {},
     "output_type": "display_data"
    },
    {
     "data": {
      "text/markdown": [
       "<span style=\"color: #65a600\">RT @crypto_rex: Looking at @nansen_ai's Top ETH Balance's table, it can be seen that the eth_2 deposit contract, will be the 15th top eth h…</span>"
      ],
      "text/plain": [
       "<IPython.core.display.Markdown object>"
      ]
     },
     "metadata": {},
     "output_type": "display_data"
    },
    {
     "data": {
      "text/markdown": [
       "<span style=\"color: #bdbf00\">RT @Crypto_Briefing: #Ethereum analytics firm @nansen_ai is a subscription-based data startup bootstrapped by Alex Svanevik, Evgeny Medvede…</span>"
      ],
      "text/plain": [
       "<IPython.core.display.Markdown object>"
      ]
     },
     "metadata": {},
     "output_type": "display_data"
    },
    {
     "data": {
      "text/markdown": [
       "<span style=\"color: #1c8d00\">Happy to announce some good news - three at once!\n",
       "\n",
       "1. Ethereum 2.0 - Medalla Dashboard\n",
       "2. Nansen Research website\n",
       "3. Ethereum 2.0 ETL\n",
       "\n",
       "(thread)</span>"
      ],
      "text/plain": [
       "<IPython.core.display.Markdown object>"
      ]
     },
     "metadata": {},
     "output_type": "display_data"
    },
    {
     "data": {
      "text/markdown": [
       "<span style=\"color: #61a500\">RT @CxDefi: Nansen Brings Transparency To Ethereum And Smart Contracts @nansen_ai #Blockchain #Data #Ethereum \n",
       "\n",
       "https://t.co/Yecp8gpeVB</span>"
      ],
      "text/plain": [
       "<IPython.core.display.Markdown object>"
      ]
     },
     "metadata": {},
     "output_type": "display_data"
    },
    {
     "data": {
      "text/markdown": [
       "<span style=\"color: #bdbf00\">RT @masonnystrom: Coinbase holds ~8.7 million ether (just over $3 billion USD at today's prices). \n",
       "\n",
       "For reference, Coinbase's Series E roun…</span>"
      ],
      "text/plain": [
       "<IPython.core.display.Markdown object>"
      ]
     },
     "metadata": {},
     "output_type": "display_data"
    },
    {
     "data": {
      "text/markdown": [
       "<span style=\"color: #d58e00\">RT @defiprime: We listed Nansen 🔥 \n",
       "\n",
       "Nansen is an analytics platform for #Ethereum, which combines on-chain data with a massive and constant…</span>"
      ],
      "text/plain": [
       "<IPython.core.display.Markdown object>"
      ]
     },
     "metadata": {},
     "output_type": "display_data"
    },
    {
     "data": {
      "text/markdown": [
       "<span style=\"color: #88b100\">RT @mosayeri: The best analytics tool for DeFi and Ethereum is @ASvanevik's https://t.co/dgY3L3FJUJ.\n",
       "Can't say enough great things about @n…</span>"
      ],
      "text/plain": [
       "<IPython.core.display.Markdown object>"
      ]
     },
     "metadata": {},
     "output_type": "display_data"
    },
    {
     "data": {
      "text/markdown": [
       "<span style=\"color: #bdbf00\">Why are people moving BTC to Ethereum? 🤔\n",
       "\n",
       "⭐️ New video just published ⭐️\n",
       "https://t.co/PrsgVV8ZuO</span>"
      ],
      "text/plain": [
       "<IPython.core.display.Markdown object>"
      ]
     },
     "metadata": {},
     "output_type": "display_data"
    },
    {
     "data": {
      "text/markdown": [
       "<span style=\"color: #91b300\">One of our internal product KPIs is ETH Volume Coverage.\n",
       "\n",
       "In brief, it measures what % of all ETH transacted on-chain we can attributed to labeled senders/recipients.\n",
       "\n",
       "It's been growing steadily over the last year - almost 65% (on average) for 2020: https://t.co/K8RrymNmLj</span>"
      ],
      "text/plain": [
       "<IPython.core.display.Markdown object>"
      ]
     },
     "metadata": {},
     "output_type": "display_data"
    },
    {
     "data": {
      "text/markdown": [
       "<span style=\"color: #e75900\">Our Early Bird offer still has a few slots left!\n",
       "\n",
       "For ~0.96 ETH you get 90 days access to Nansen.\n",
       "\n",
       "Not sure it's worth it? Try it out for 7 days first, with no commitment: https://t.co/1laNELHdLF</span>"
      ],
      "text/plain": [
       "<IPython.core.display.Markdown object>"
      ]
     },
     "metadata": {},
     "output_type": "display_data"
    },
    {
     "data": {
      "text/markdown": [
       "<span style=\"color: #83af00\">RT @alex_kroeger: @BobMcElrath We'll see how it plays out. Data shows (@nansen_ai) roughly 1/3 of ETH in qualifying validator addresses bel…</span>"
      ],
      "text/plain": [
       "<IPython.core.display.Markdown object>"
      ]
     },
     "metadata": {},
     "output_type": "display_data"
    },
    {
     "data": {
      "text/markdown": [
       "<span style=\"color: #9fb700\">RT @spencernoon: This morning the Plus Token scam moved 789k ETH\n",
       "\n",
       "Unclear if they're trying to sell but FYI their wallets have interacted w…</span>"
      ],
      "text/plain": [
       "<IPython.core.display.Markdown object>"
      ]
     },
     "metadata": {},
     "output_type": "display_data"
    },
    {
     "data": {
      "text/markdown": [
       "<span style=\"color: #bdbf00\">RT @decryptmedia: Data from @ArcaneResearch and @nansen_ai shows that Ethereum wallets with at least 32 ETH, the amount required for ETH 2.…</span>"
      ],
      "text/plain": [
       "<IPython.core.display.Markdown object>"
      ]
     },
     "metadata": {},
     "output_type": "display_data"
    },
    {
     "data": {
      "text/markdown": [
       "<span style=\"color: #69a800\">RT @ArcaneResearch: 👀Another sneak peek into our weekly market report👀\n",
       "Are investors getting ready for Ethereum staking? Data from @nansen_…</span>"
      ],
      "text/plain": [
       "<IPython.core.display.Markdown object>"
      ]
     },
     "metadata": {},
     "output_type": "display_data"
    },
    {
     "data": {
      "text/markdown": [
       "<span style=\"color: #bdbf00\">Check out this piece by @joel_john95 on ETH account balances: https://t.co/9DisRciERL</span>"
      ],
      "text/plain": [
       "<IPython.core.display.Markdown object>"
      ]
     },
     "metadata": {},
     "output_type": "display_data"
    },
    {
     "data": {
      "text/markdown": [
       "<span style=\"color: #bdbf00\">RT @spencernoon: #9: Post-Black Thursday (March 12) there has been a net outflow of $ETH from exchanges, with 62% of days showing net outfl…</span>"
      ],
      "text/plain": [
       "<IPython.core.display.Markdown object>"
      ]
     },
     "metadata": {},
     "output_type": "display_data"
    },
    {
     "data": {
      "text/markdown": [
       "<span style=\"color: #379700\">RT @AlexanderFisher: Over 2600 BTC have been locked and wrapped into WBTC on #Ethereum and deposited to MakerDAO as collateral. Wow!</span>"
      ],
      "text/plain": [
       "<IPython.core.display.Markdown object>"
      ]
     },
     "metadata": {},
     "output_type": "display_data"
    },
    {
     "data": {
      "text/markdown": [
       "<span style=\"color: #8cb200\">These are the top ETH depositors to Bitfinex since Feb 15: https://t.co/i1ViXHOgmB https://t.co/m6cs3z1n5W</span>"
      ],
      "text/plain": [
       "<IPython.core.display.Markdown object>"
      ]
     },
     "metadata": {},
     "output_type": "display_data"
    },
    {
     "data": {
      "text/markdown": [
       "<span style=\"color: #72aa00\">&gt;40% increase in ETH held by @bitfinex since mid-February.\n",
       "\n",
       "It's now the 2nd largest ETH holder among exchanges. https://t.co/ywU8Z096FN</span>"
      ],
      "text/plain": [
       "<IPython.core.display.Markdown object>"
      ]
     },
     "metadata": {},
     "output_type": "display_data"
    }
   ],
   "source": [
    "from IPython.display import Markdown\n",
    "for col,text in zip(hex_colors,filtered_subset_[\"text\"]):\n",
    "    display (Markdown('<span style=\"color: {}\">{}</span>'.format(col,text)))"
   ]
  }
 ],
 "metadata": {
  "kernelspec": {
   "display_name": "Python 3",
   "language": "python",
   "name": "python3"
  },
  "language_info": {
   "codemirror_mode": {
    "name": "ipython",
    "version": 3
   },
   "file_extension": ".py",
   "mimetype": "text/x-python",
   "name": "python",
   "nbconvert_exporter": "python",
   "pygments_lexer": "ipython3",
   "version": "3.8.2"
  }
 },
 "nbformat": 4,
 "nbformat_minor": 4
}
